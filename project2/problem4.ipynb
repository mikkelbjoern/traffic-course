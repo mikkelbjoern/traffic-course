{
 "cells": [
  {
   "cell_type": "markdown",
   "metadata": {},
   "source": [
    "## Problem 4: Shortest path"
   ]
  },
  {
   "cell_type": "markdown",
   "metadata": {
    "vscode": {
     "languageId": "plaintext"
    }
   },
   "source": [
    "Implementation of my own version of Djikstra for relliability case:\n",
    "\n",
    "```\n",
    "function Dijstra_relibility(Graph, source):\n",
    "\tdefine empty queue as Q\n",
    "\tdefine empty array reliability[]\n",
    "\tdefine empty array prev[]\n",
    "\t\n",
    "\tfor each vertex v in Graph.Vertices\n",
    "\t\treliability[v] <- 0\n",
    "\t\tprev[v] <- UNDEFINED\n",
    "\t\tadd v to Q\n",
    "\tdist[source] <- 1\n",
    "\n",
    "\twhile Q is not empty:\n",
    "\t\tu <- vertex in Q with maximum reliability[u] # maximum instead of minimum\n",
    "\t\tremove u from Q\n",
    "\n",
    "\t\tfor each neighbor v of u still in Q:\n",
    "\t\t\talt <- reliability[u] * Graph(u,v) # multiplication not sum\n",
    "\t\t\tif alt > dist[v]: # check higher reliability instead of shorter dist\n",
    "\t\t\t\tdist[v] <- v\n",
    "\t\t\t\tprev[v] <- u\n",
    "\n",
    "\treturn dist[], prev[]\n",
    "```"
   ]
  },
  {
   "cell_type": "markdown",
   "metadata": {},
   "source": [
    "### 4.2"
   ]
  },
  {
   "cell_type": "code",
   "execution_count": 4,
   "metadata": {},
   "outputs": [
    {
     "name": "stdout",
     "output_type": "stream",
     "text": [
      "Processing node 1 with reliability 1.00\n",
      "  Checking edge 1 -> 2, new reliability for 2 would be 0.85 through 1 \n",
      "    Thus, updating reliability of 2 from 0.00 to 0.85\n",
      "  Checking edge 1 -> 3, new reliability for 3 would be 0.75 through 1 \n",
      "    Thus, updating reliability of 3 from 0.00 to 0.75\n",
      "Processing node 2 with reliability 0.00\n",
      "  Checking edge 2 -> 3, new reliability for 3 would be 0.81 through 2 \n",
      "    Thus, updating reliability of 3 from 0.75 to 0.81\n",
      "  Checking edge 2 -> 4, new reliability for 4 would be 0.68 through 2 \n",
      "    Thus, updating reliability of 4 from 0.00 to 0.68\n",
      "  Checking edge 2 -> 5, new reliability for 5 would be 0.64 through 2 \n",
      "    Thus, updating reliability of 5 from 0.00 to 0.64\n",
      "Processing node 3 with reliability 0.00\n",
      "  Checking edge 3 -> 4, new reliability for 4 would be 0.65 through 3 \n",
      "    Not updating 4, current reliability 0.68 is better than 0.65\n",
      "  Checking edge 3 -> 5, new reliability for 5 would be 0.65 through 3 \n",
      "    Thus, updating reliability of 5 from 0.64 to 0.65\n",
      "Processing node 4 with reliability 0.00\n",
      "  Checking edge 4 -> 5, new reliability for 5 would be 0.61 through 4 \n",
      "    Not updating 5, current reliability 0.65 is better than 0.61\n",
      "  Checking edge 4 -> 6, new reliability for 6 would be 0.51 through 4 \n",
      "    Thus, updating reliability of 6 from 0.00 to 0.51\n",
      "Processing node 5 with reliability 0.00\n",
      "  Checking edge 5 -> 6, new reliability for 6 would be 0.61 through 5 \n",
      "    Thus, updating reliability of 6 from 0.51 to 0.61\n",
      "Processing node 6 with reliability 0.00\n"
     ]
    }
   ],
   "source": [
    "import numpy as np\n",
    "\n",
    "# These are directed (source, destination, reliability) tuples\n",
    "graph_relieabilities = [\n",
    "    (1, 2, 0.85),\n",
    "    (1, 3, 0.75),\n",
    "    (2, 3, 0.95),\n",
    "    (2, 4, 0.8),\n",
    "    (2, 5, 0.75),\n",
    "    (3, 4, 0.8),\n",
    "    (3, 5, 0.8),\n",
    "    (4, 5, 0.9),\n",
    "    (4, 6, 0.75),\n",
    "    (5, 6, 0.95),\n",
    "]\n",
    "\n",
    "nodes = set()\n",
    "# Create a set of nodes from the reliabilities\n",
    "for src, dst, _ in graph_relieabilities:\n",
    "    nodes.add(src)\n",
    "    nodes.add(dst)\n",
    "\n",
    "reliability = { v: 0 for v in nodes }\n",
    "reliability[1] = 1  # Set the reliability of the source node to 1\n",
    "prev = { v: None for v in nodes }\n",
    "\n",
    "queue = { v: reliability[v] for v in nodes }\n",
    "# Set the reliability of the source node to 1\n",
    "queue[1] = 1\n",
    "\n",
    "while len(queue) > 0:\n",
    "    # Get the node with the highest reliability\n",
    "    u = max(queue, key=queue.get)\n",
    "    estimated_reliability = queue[u]\n",
    "    print(f\"Processing node {u} with reliability {queue[u]:.2f}\")\n",
    "    del queue[u]\n",
    "    \n",
    "    # Update the reliability of the neighbors\n",
    "    for src, dst, rel in graph_relieabilities:\n",
    "        if src == u:\n",
    "            # Calculate the new reliability\n",
    "            alt = reliability[src] * rel\n",
    "            print(f\"  Checking edge {src} -> {dst}, new reliability for {dst} would be {alt:.2f} through {src} \")\n",
    "            # If the new reliability is higher, update it\n",
    "            if alt > reliability[dst]:\n",
    "                print(f\"    Thus, updating reliability of {dst} from {reliability[dst]:.2f} to {alt:.2f}\")\n",
    "                reliability[dst] = alt\n",
    "                prev[dst] = u\n",
    "            else:\n",
    "                print(f\"    Not updating {dst}, current reliability {reliability[dst]:.2f} is better than {alt:.2f}\")\n",
    "\n",
    "\n",
    "\n",
    "\n"
   ]
  },
  {
   "cell_type": "code",
   "execution_count": 5,
   "metadata": {},
   "outputs": [
    {
     "name": "stdout",
     "output_type": "stream",
     "text": [
      "Reliability of node 1: 1.00\n",
      "  Previous node: None\n",
      "Reliability of node 2: 0.85\n",
      "  Previous node: 1\n",
      "Reliability of node 3: 0.81\n",
      "  Previous node: 2\n",
      "Reliability of node 4: 0.68\n",
      "  Previous node: 2\n",
      "Reliability of node 5: 0.65\n",
      "  Previous node: 3\n",
      "Reliability of node 6: 0.61\n",
      "  Previous node: 5\n"
     ]
    }
   ],
   "source": [
    "# Print the reliability of each node\n",
    "for node in sorted(nodes):\n",
    "    print(f\"Reliability of node {node}: {reliability[node]:.2f}\")\n",
    "    if prev[node] is not None:\n",
    "        print(f\"  Previous node: {prev[node]}\")\n",
    "    else:\n",
    "        print(\"  Previous node: None\")"
   ]
  }
 ],
 "metadata": {
  "kernelspec": {
   "display_name": "Python 3",
   "language": "python",
   "name": "python3"
  },
  "language_info": {
   "codemirror_mode": {
    "name": "ipython",
    "version": 3
   },
   "file_extension": ".py",
   "mimetype": "text/x-python",
   "name": "python",
   "nbconvert_exporter": "python",
   "pygments_lexer": "ipython3",
   "version": "3.10.12"
  }
 },
 "nbformat": 4,
 "nbformat_minor": 2
}
