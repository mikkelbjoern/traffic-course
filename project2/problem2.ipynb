{
 "cells": [
  {
   "cell_type": "markdown",
   "metadata": {},
   "source": [
    "## Problem 2: Verification"
   ]
  },
  {
   "cell_type": "markdown",
   "metadata": {},
   "source": []
  },
  {
   "cell_type": "code",
   "execution_count": 1,
   "metadata": {},
   "outputs": [
    {
     "name": "stderr",
     "output_type": "stream",
     "text": [
      "/home/mbg/.local/lib/python3.10/site-packages/matplotlib/projections/__init__.py:63: UserWarning: Unable to import Axes3D. This may be due to multiple versions of Matplotlib being installed (e.g. as a system package and as a pip package). As a result, the 3D projection is not available.\n",
      "  warnings.warn(\"Unable to import Axes3D. This may be due to multiple versions of \"\n"
     ]
    },
    {
     "data": {
      "image/png": "[encoded data removed]",
      "text/plain": [
       "<Figure size 1000x500 with 1 Axes>"
      ]
     },
     "metadata": {},
     "output_type": "display_data"
    }
   ],
   "source": [
    "import numpy as np\n",
    "import matplotlib.pyplot as plt \n",
    "\n",
    "lambda_ = 100 # customers per hour\n",
    "mu = lambda_\n",
    "mu_A = mu/3\n",
    "\n",
    "\n",
    "# For A simulate M/M/2 queue with capacity 4\n",
    "def simulate_A():\n",
    "    \"\"\"\n",
    "    Event-driven simulation of M/M/2 queue with capacity 4\n",
    "    \"\"\"\n",
    "    # Parameters\n",
    "    num_customers = 100000\n",
    "    arrival_rate = lambda_ / 3600  # customers per second\n",
    "    service_rate = mu_A / 3600  # customers per second\n",
    "    num_servers = 2\n",
    "    queue_capacity = 4\n",
    "\n",
    "    event_queue = {}\n",
    "    ARR_EVENT = \"arrival\"\n",
    "    DEP_EVENT = \"departure\"\n",
    "\n",
    "    # Plan arrival of first customer\n",
    "    event_queue[np.random.exponential(1 / arrival_rate)] = ARR_EVENT\n",
    "    \n",
    "    queue_length = 0\n",
    "    arrived_customers = 0 # Tracked to stop the simulation\n",
    "    passed_events = {}\n",
    "    queue_length_history = {}\n",
    "    \n",
    "    \n",
    "    while arrived_customers < num_customers:\n",
    "        # Get the next event\n",
    "        event_time = min(event_queue.keys())\n",
    "        event_type = event_queue.pop(event_time)\n",
    "        passed_events[event_time] = event_type\n",
    "        \n",
    "    \n",
    "        if event_type == ARR_EVENT:\n",
    "            arrived_customers += 1\n",
    "            # Handle arrival\n",
    "            if queue_length < queue_capacity:\n",
    "                queue_length += 1\n",
    "            if queue_length <= num_servers:\n",
    "                # Schedule departure\n",
    "                event_queue[event_time + np.random.exponential(1 / service_rate)] = DEP_EVENT\n",
    "            \n",
    "            # Schedule next arrival\n",
    "            event_queue[event_time + np.random.exponential(1 / arrival_rate)] = ARR_EVENT\n",
    "        \n",
    "        elif event_type == DEP_EVENT:\n",
    "            # Handle departure\n",
    "            queue_length -= 1\n",
    "            if queue_length >= num_servers:\n",
    "                # Schedule next departure\n",
    "                event_queue[event_time + np.random.exponential(1 / service_rate)] = DEP_EVENT\n",
    "        \n",
    "        queue_length_history[event_time] = queue_length\n",
    "        \n",
    "    return passed_events, queue_length_history \n",
    "         \n",
    "    \n",
    "\n",
    "\n",
    "import pandas as pd\n",
    "\n",
    "passed_events, queue_length_history = simulate_A()\n",
    "# Drop the first 100 events to avoid the initial transient state\n",
    "passed_events = {k: passed_events[k] for k in list(passed_events.keys())[100:]}\n",
    "queue_length_history = {k: queue_length_history[k] for k in list(queue_length_history.keys())[100:]}\n",
    "\n",
    "queue_length_df = pd.DataFrame.from_dict(queue_length_history, orient='index', columns=['Queue Length'])\n",
    "# Plot the queue length over time\n",
    "plt.figure(figsize=(10, 5))\n",
    "plt.plot(queue_length_df.index, queue_length_df['Queue Length'], marker='o', linestyle='-')\n",
    "plt.title('Queue Length Over Time')\n",
    "plt.xlabel('Time')\n",
    "plt.ylabel('Queue Length')\n",
    "plt.xticks(rotation=45)\n",
    "plt.grid()\n",
    "plt.tight_layout()\n",
    "plt.show()"
   ]
  },
  {
   "cell_type": "code",
   "execution_count": 37,
   "metadata": {},
   "outputs": [
    {
     "data": {
      "text/latex": [
       "$\\displaystyle \\hat{{P}}_{0}=0.02490469345665896$"
      ],
      "text/plain": [
       "<IPython.core.display.Math object>"
      ]
     },
     "metadata": {},
     "output_type": "display_data"
    },
    {
     "data": {
      "text/latex": [
       "$\\displaystyle \\text{State } 0 \\text{ is active with freq: } 0.03008607153458653$"
      ],
      "text/plain": [
       "<IPython.core.display.Math object>"
      ]
     },
     "metadata": {},
     "output_type": "display_data"
    },
    {
     "data": {
      "text/latex": [
       "$\\displaystyle \\hat{{P}}_{1}=0.0998062621086182$"
      ],
      "text/plain": [
       "<IPython.core.display.Math object>"
      ]
     },
     "metadata": {},
     "output_type": "display_data"
    },
    {
     "data": {
      "text/latex": [
       "$\\displaystyle \\text{State } 1 \\text{ is active with freq: } 0.1124153872017142$"
      ],
      "text/plain": [
       "<IPython.core.display.Math object>"
      ]
     },
     "metadata": {},
     "output_type": "display_data"
    },
    {
     "data": {
      "text/latex": [
       "$\\displaystyle \\hat{{P}}_{2}=0.18560714955315294$"
      ],
      "text/plain": [
       "<IPython.core.display.Math object>"
      ]
     },
     "metadata": {},
     "output_type": "display_data"
    },
    {
     "data": {
      "text/latex": [
       "$\\displaystyle \\text{State } 2 \\text{ is active with freq: } 0.19567943647104852$"
      ],
      "text/plain": [
       "<IPython.core.display.Math object>"
      ]
     },
     "metadata": {},
     "output_type": "display_data"
    },
    {
     "data": {
      "text/latex": [
       "$\\displaystyle \\hat{{P}}_{3}=0.2756390225610899$"
      ],
      "text/plain": [
       "<IPython.core.display.Math object>"
      ]
     },
     "metadata": {},
     "output_type": "display_data"
    },
    {
     "data": {
      "text/latex": [
       "$\\displaystyle \\text{State } 3 \\text{ is active with freq: } 0.26397074804468723$"
      ],
      "text/plain": [
       "<IPython.core.display.Math object>"
      ]
     },
     "metadata": {},
     "output_type": "display_data"
    },
    {
     "data": {
      "text/latex": [
       "$\\displaystyle \\hat{{P}}_{4}=0.41404287232048$"
      ],
      "text/plain": [
       "<IPython.core.display.Math object>"
      ]
     },
     "metadata": {},
     "output_type": "display_data"
    },
    {
     "data": {
      "text/latex": [
       "$\\displaystyle \\text{State } 4 \\text{ is active with freq: } 0.39784835674796354$"
      ],
      "text/plain": [
       "<IPython.core.display.Math object>"
      ]
     },
     "metadata": {},
     "output_type": "display_data"
    }
   ],
   "source": [
    "import sympy\n",
    "from IPython.display import display, Math\n",
    "\n",
    "\n",
    "# Make weighted average of queue length from how long the queue was that length\n",
    "\n",
    "# Calculate time differences between consecutive indices\n",
    "time_differences = queue_length_df.index.to_series().diff().fillna(0)\n",
    "\n",
    "queue_length_df[\"TimeSpent\"] = time_differences\n",
    "\n",
    "for i in range(5):\n",
    "    display(\n",
    "        Math(\n",
    "            \"\\\\hat{{P}}_{\"\n",
    "            + str(i)\n",
    "            + \"}=\"\n",
    "            + str(\n",
    "                np.mean(\n",
    "                    np.mean(queue_length_df[\"Queue Length\"] == i)\n",
    "                )\n",
    "                #sum(queue_length_df[queue_length_df[\"Queue Length\"] == i][\"TimeSpent\"])\n",
    "                #/ sum(queue_length_df[\"TimeSpent\"])\n",
    "            )\n",
    "        )\n",
    "    )\n",
    "    display(\n",
    "        Math(\n",
    "            \"\\\\text{State } \"\n",
    "            + str(i)\n",
    "            + \" \\\\text{ is active with freq: } \"\n",
    "            + str(\n",
    "                sum(queue_length_df[queue_length_df[\"Queue Length\"] == i][\"TimeSpent\"])\n",
    "                / sum(queue_length_df[\"TimeSpent\"])\n",
    "            )\n",
    "        )\n",
    "    )"
   ]
  },
  {
   "cell_type": "code",
   "execution_count": null,
   "metadata": {},
   "outputs": [
    {
     "data": {
      "text/html": [
       "<div>\n",
       "<style scoped>\n",
       "    .dataframe tbody tr th:only-of-type {\n",
       "        vertical-align: middle;\n",
       "    }\n",
       "\n",
       "    .dataframe tbody tr th {\n",
       "        vertical-align: top;\n",
       "    }\n",
       "\n",
       "    .dataframe thead th {\n",
       "        text-align: right;\n",
       "    }\n",
       "</style>\n",
       "<table border=\"1\" class=\"dataframe\">\n",
       "  <thead>\n",
       "    <tr style=\"text-align: right;\">\n",
       "      <th></th>\n",
       "      <th>Queue Length</th>\n",
       "      <th>TimeSpent</th>\n",
       "    </tr>\n",
       "  </thead>\n",
       "  <tbody>\n",
       "    <tr>\n",
       "      <th>2.894249e+03</th>\n",
       "      <td>2</td>\n",
       "      <td>0.000000</td>\n",
       "    </tr>\n",
       "    <tr>\n",
       "      <th>2.897082e+03</th>\n",
       "      <td>1</td>\n",
       "      <td>2.832739</td>\n",
       "    </tr>\n",
       "    <tr>\n",
       "      <th>2.926386e+03</th>\n",
       "      <td>0</td>\n",
       "      <td>29.304157</td>\n",
       "    </tr>\n",
       "    <tr>\n",
       "      <th>2.951268e+03</th>\n",
       "      <td>1</td>\n",
       "      <td>24.882503</td>\n",
       "    </tr>\n",
       "    <tr>\n",
       "      <th>2.964451e+03</th>\n",
       "      <td>0</td>\n",
       "      <td>13.182090</td>\n",
       "    </tr>\n",
       "    <tr>\n",
       "      <th>...</th>\n",
       "      <td>...</td>\n",
       "      <td>...</td>\n",
       "    </tr>\n",
       "    <tr>\n",
       "      <th>3.607459e+06</th>\n",
       "      <td>3</td>\n",
       "      <td>0.195157</td>\n",
       "    </tr>\n",
       "    <tr>\n",
       "      <th>3.607477e+06</th>\n",
       "      <td>4</td>\n",
       "      <td>18.226516</td>\n",
       "    </tr>\n",
       "    <tr>\n",
       "      <th>3.607500e+06</th>\n",
       "      <td>3</td>\n",
       "      <td>23.192787</td>\n",
       "    </tr>\n",
       "    <tr>\n",
       "      <th>3.607507e+06</th>\n",
       "      <td>4</td>\n",
       "      <td>6.457364</td>\n",
       "    </tr>\n",
       "    <tr>\n",
       "      <th>3.607512e+06</th>\n",
       "      <td>4</td>\n",
       "      <td>5.353941</td>\n",
       "    </tr>\n",
       "  </tbody>\n",
       "</table>\n",
       "<p>160010 rows × 2 columns</p>\n",
       "</div>"
      ],
      "text/plain": [
       "              Queue Length  TimeSpent\n",
       "2.894249e+03             2   0.000000\n",
       "2.897082e+03             1   2.832739\n",
       "2.926386e+03             0  29.304157\n",
       "2.951268e+03             1  24.882503\n",
       "2.964451e+03             0  13.182090\n",
       "...                    ...        ...\n",
       "3.607459e+06             3   0.195157\n",
       "3.607477e+06             4  18.226516\n",
       "3.607500e+06             3  23.192787\n",
       "3.607507e+06             4   6.457364\n",
       "3.607512e+06             4   5.353941\n",
       "\n",
       "[160010 rows x 2 columns]"
      ]
     },
     "execution_count": 4,
     "metadata": {},
     "output_type": "execute_result"
    }
   ],
   "source": []
  },
  {
   "cell_type": "code",
   "execution_count": 34,
   "metadata": {},
   "outputs": [
    {
     "name": "stdout",
     "output_type": "stream",
     "text": [
      "{P_{0}[A]: 0.0246153846153846, P_{1}[A]: 0.0984615384615385, P_{2}[A]: 0.184615384615385, P_{3}[A]: 0.276923076923077, P_{4}[A]: 0.415384615384615}\n"
     ]
    },
    {
     "data": {
      "text/latex": [
       "$\\displaystyle P_{0}[A] = \\frac{8}{325} = 0.0246153846153846$"
      ],
      "text/plain": [
       "<IPython.core.display.Math object>"
      ]
     },
     "metadata": {},
     "output_type": "display_data"
    },
    {
     "data": {
      "text/latex": [
       "$\\displaystyle P_{1}[A] = \\frac{32}{325} = 0.0984615384615385$"
      ],
      "text/plain": [
       "<IPython.core.display.Math object>"
      ]
     },
     "metadata": {},
     "output_type": "display_data"
    },
    {
     "data": {
      "text/latex": [
       "$\\displaystyle P_{2}[A] = \\frac{12}{65} = 0.184615384615385$"
      ],
      "text/plain": [
       "<IPython.core.display.Math object>"
      ]
     },
     "metadata": {},
     "output_type": "display_data"
    },
    {
     "data": {
      "text/latex": [
       "$\\displaystyle P_{3}[A] = \\frac{18}{65} = 0.276923076923077$"
      ],
      "text/plain": [
       "<IPython.core.display.Math object>"
      ]
     },
     "metadata": {},
     "output_type": "display_data"
    },
    {
     "data": {
      "text/latex": [
       "$\\displaystyle P_{4}[A] = \\frac{27}{65} = 0.415384615384615$"
      ],
      "text/plain": [
       "<IPython.core.display.Math object>"
      ]
     },
     "metadata": {},
     "output_type": "display_data"
    }
   ],
   "source": [
    "\n",
    "# Make equations for A\n",
    "# P0 = (1/4) P1\n",
    "# P1 = P0 + (2/5) P2\n",
    "# P2 = (3/4) P1 + 2/5 P3\n",
    "# P3 = (3/5) P2 + (2/5) P4\n",
    "# P4 = (3/5) P3 + (3/5) P4\n",
    "\n",
    "\n",
    "# Define the variables\n",
    "P0, P1, P2, P3, P4 = sympy.symbols('P_{0}[A] P_{1}[A] P_{2}[A] P_{3}[A] P_{4}[A]')\n",
    "lambda_ = sympy.Symbol(\"\\\\lambda\")\n",
    "\n",
    "# Define the equations\n",
    "eq1 = sympy.Eq(P0, (1/4) * P1)\n",
    "eq2 = sympy.Eq(P1, P0 + (2/5) * P2)\n",
    "eq3 = sympy.Eq(P2, (3/4) * P1 + (2/5) * P3)\n",
    "eq4 = sympy.Eq(P3, (3/5) * P2 + (2/5) * P4)\n",
    "eq5 = sympy.Eq(P4, (3/5) * P3 + (3/5) * P4)\n",
    "eq_sum1 = sympy.Eq(1, P0+P1+P2+P3+P4)\n",
    "\n",
    "# Solve the equations\n",
    "solution = sympy.solve([eq1, eq2, eq3, eq4, eq5, eq_sum1], (P0, P1, P2, P3, P4))\n",
    "print(solution)\n",
    "\n",
    "# Pretty print the solution as fractions\n",
    "solution_fractions = {k: sympy.nsimplify(v) for k, v in solution.items()}\n",
    "\n",
    "# Display solutions as LaTeX formatted output\n",
    "\n",
    "for k, v in solution_fractions.items():\n",
    "    display(Math(f\"{sympy.latex(k)} = {sympy.latex(v)} = {v.evalf()}\"))\n",
    "\n"
   ]
  },
  {
   "cell_type": "code",
   "execution_count": 36,
   "metadata": {},
   "outputs": [
    {
     "data": {
      "text/latex": [
       "$\\displaystyle 0.0394088669950739$"
      ],
      "text/plain": [
       "0.0394088669950739"
      ]
     },
     "execution_count": 36,
     "metadata": {},
     "output_type": "execute_result"
    }
   ],
   "source": [
    "rate_0 = 1 \n",
    "rate_1 = 4/3\n",
    "rate_2 = 5/3\n",
    "rate_3 = 5/3\n",
    "rate_4 = 5/3\n",
    "\n",
    "q_0 = (1/rate_0) * solution_fractions[P0] \n",
    "q_1 = (1/rate_1) * solution_fractions[P1]\n",
    "q_2 = (1/rate_2) * solution_fractions[P2]\n",
    "q_3 = (1/rate_3) * solution_fractions[P3]\n",
    "q_4 = (1/rate_4) * solution_fractions[P4]\n",
    "\n",
    "sum_q = q_0 + q_1 + q_2 + q_3 + q_4\n",
    "\n",
    "q_0 / sum_q\n"
   ]
  }
 ],
 "metadata": {
  "kernelspec": {
   "display_name": "Python 3",
   "language": "python",
   "name": "python3"
  },
  "language_info": {
   "codemirror_mode": {
    "name": "ipython",
    "version": 3
   },
   "file_extension": ".py",
   "mimetype": "text/x-python",
   "name": "python",
   "nbconvert_exporter": "python",
   "pygments_lexer": "ipython3",
   "version": "3.10.12"
  }
 },
 "nbformat": 4,
 "nbformat_minor": 2
}
