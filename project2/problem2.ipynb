{
 "cells": [
  {
   "cell_type": "markdown",
   "metadata": {},
   "source": [
    "## Problem 2: Verification"
   ]
  },
  {
   "cell_type": "code",
   "execution_count": 7,
   "metadata": {},
   "outputs": [
    {
     "data": {
      "text/plain": [
       "997"
      ]
     },
     "execution_count": 7,
     "metadata": {},
     "output_type": "execute_result"
    }
   ],
   "source": [
    "import numpy as np\n",
    "import matplotlib.pyplot as plt \n",
    "\n",
    "lambda_ = 100 # customers per hour\n",
    "mu = lambda_\n",
    "mu_A = mu/3\n",
    "\n",
    "\n",
    "# For A simulate M/M/2 queue with capacity 4\n",
    "def simulate_A():\n",
    "    \"\"\"\n",
    "    Event-driven simulation of M/M/2 queue with capacity 4\n",
    "    \"\"\"\n",
    "    # Parameters\n",
    "    num_customers = 1000\n",
    "    arrival_rate = lambda_ / 3600  # customers per second\n",
    "    service_rate = mu_A / 3600  # customers per second\n",
    "    num_servers = 2\n",
    "    queue_capacity = 4\n",
    "\n",
    "    event_queue = {}\n",
    "    ARR_EVENT = \"arrival\"\n",
    "    DEP_EVENT = \"departure\"\n",
    "\n",
    "    # Plan arrival of first customer\n",
    "    event_queue[np.random.exponential(1 / arrival_rate)] = ARR_EVENT\n",
    "    \n",
    "    server_customers = 0\n",
    "    queue_length = 0\n",
    "    served_customers = 0\n",
    "    while served_customers < num_customers:\n",
    "        # Get the next event\n",
    "        event_time = min(event_queue.keys())\n",
    "        event_type = event_queue.pop(event_time)\n",
    "\n",
    "        if event_type == ARR_EVENT:\n",
    "            # Handle arrival\n",
    "            if server_customers < num_servers:\n",
    "                # Server is available\n",
    "                server_customers += 1\n",
    "                departure_time = event_time + np.random.exponential(1 / service_rate)\n",
    "                event_queue[departure_time] = DEP_EVENT\n",
    "            else:\n",
    "                # Queue is full, drop customer\n",
    "                queue_length += 1\n",
    "                if queue_length < queue_capacity:\n",
    "                    # Schedule next arrival\n",
    "                    event_queue[event_time + np.random.exponential(1 / arrival_rate)] = ARR_EVENT\n",
    "\n",
    "        elif event_type == DEP_EVENT:\n",
    "            # Handle departure\n",
    "            server_customers -= 1\n",
    "            served_customers += 1\n",
    "            if queue_length > 0:\n",
    "                # Serve the next customer in the queue\n",
    "                queue_length -= 1\n",
    "                departure_time = event_time + np.random.exponential(1 / service_rate)\n",
    "                event_queue[departure_time] = DEP_EVENT\n",
    "\n",
    "    \n",
    "\n",
    "\n",
    "\n",
    "\n",
    "\n",
    "arrivald_A, departures_A, queue_length_A = simulate_A()\n",
    "\n",
    "import pandas as pd\n",
    "\n",
    "df_A = pd.DataFrame({\n",
    "    'arrival_time': arrivald_A,\n",
    "    'departure_time': departures_A,\n",
    "    'queue_length': queue_length_A\n",
    "})\n",
    "\n",
    "df_A['waiting_time'] = df_A['departure_time'] - df_A['arrival_time']\n",
    "df_A['queue_length'] = df_A['queue_length'].clip(upper=4)\n",
    "\n",
    "sum(df_A.queue_length==4)\n"
   ]
  }
 ],
 "metadata": {
  "kernelspec": {
   "display_name": "Python 3",
   "language": "python",
   "name": "python3"
  },
  "language_info": {
   "codemirror_mode": {
    "name": "ipython",
    "version": 3
   },
   "file_extension": ".py",
   "mimetype": "text/x-python",
   "name": "python",
   "nbconvert_exporter": "python",
   "pygments_lexer": "ipython3",
   "version": "3.10.12"
  }
 },
 "nbformat": 4,
 "nbformat_minor": 2
}
