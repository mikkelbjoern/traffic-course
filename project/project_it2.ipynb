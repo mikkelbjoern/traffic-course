{
 "cells": [
  {
   "cell_type": "code",
   "execution_count": 11,
   "metadata": {},
   "outputs": [
    {
     "name": "stdout",
     "output_type": "stream",
     "text": [
      "Optimization terminated successfully.\n",
      "         Current function value: nan\n",
      "         Iterations 20\n",
      "                          MNLogit Regression Results                          \n",
      "==============================================================================\n",
      "Dep. Variable:                 choice   No. Observations:                 4197\n",
      "Model:                        MNLogit   Df Residuals:                     4179\n",
      "Method:                           MLE   Df Model:                           15\n",
      "Date:                Sun, 16 Mar 2025   Pseudo R-squ.:                     nan\n",
      "Time:                        14:44:12   Log-Likelihood:                    nan\n",
      "converged:                       True   LL-Null:                       -4625.7\n",
      "Covariance Type:            nonrobust   LLR p-value:                       nan\n",
      "==============================================================================\n",
      "  choice=2       coef    std err          z      P>|z|      [0.025      0.975]\n",
      "------------------------------------------------------------------------------\n",
      "const             nan        nan        nan        nan         nan         nan\n",
      "bike              nan        nan        nan        nan         nan         nan\n",
      "car               nan        nan        nan        nan         nan         nan\n",
      "public            nan        nan        nan        nan         nan         nan\n",
      "cost              nan        nan        nan        nan         nan         nan\n",
      "time              nan        nan        nan        nan         nan         nan\n",
      "------------------------------------------------------------------------------\n",
      "  choice=4       coef    std err          z      P>|z|      [0.025      0.975]\n",
      "------------------------------------------------------------------------------\n",
      "const             nan        nan        nan        nan         nan         nan\n",
      "bike              nan        nan        nan        nan         nan         nan\n",
      "car               nan        nan        nan        nan         nan         nan\n",
      "public            nan        nan        nan        nan         nan         nan\n",
      "cost              nan        nan        nan        nan         nan         nan\n",
      "time              nan        nan        nan        nan         nan         nan\n",
      "------------------------------------------------------------------------------\n",
      "  choice=6       coef    std err          z      P>|z|      [0.025      0.975]\n",
      "------------------------------------------------------------------------------\n",
      "const             nan        nan        nan        nan         nan         nan\n",
      "bike              nan        nan        nan        nan         nan         nan\n",
      "car               nan        nan        nan        nan         nan         nan\n",
      "public            nan        nan        nan        nan         nan         nan\n",
      "cost              nan        nan        nan        nan         nan         nan\n",
      "time              nan        nan        nan        nan         nan         nan\n",
      "==============================================================================\n"
     ]
    },
    {
     "name": "stderr",
     "output_type": "stream",
     "text": [
      "/home/mbg/.local/lib/python3.10/site-packages/statsmodels/discrete/discrete_model.py:3027: RuntimeWarning: overflow encountered in exp\n",
      "  eXB = np.column_stack((np.ones(len(X)), np.exp(X)))\n",
      "/home/mbg/.local/lib/python3.10/site-packages/statsmodels/discrete/discrete_model.py:3028: RuntimeWarning: invalid value encountered in divide\n",
      "  return eXB/eXB.sum(1)[:,None]\n"
     ]
    }
   ],
   "source": [
    "import pandas as pd\n",
    "import statsmodels.api as sm\n",
    "from sklearn.linear_model import LogisticRegression\n",
    "from statsmodels.discrete.discrete_model import MNLogit\n",
    "\n",
    "# Load your dataset\n",
    "df = pd.read_excel('PFI_2025_ex1_data.xlsx')\n",
    "\n",
    "# Create dummy variables for mode (use walk (1) as reference)\n",
    "df['bike'] = (df['Mode'] == 2).astype(int)\n",
    "df['car'] = (df['Mode'] == 4).astype(int)\n",
    "df['public'] = (df['Mode'] == 6).astype(int)\n",
    "\n",
    "# Extract travel time and cost variables based on chosen mode\n",
    "df['cost'] = df.apply(lambda row: row[f'TC{int(row[\"Mode\"])}'], axis=1)\n",
    "df['time'] = df.apply(lambda row: row[f'TT{int(row[\"Mode\"])}'], axis=1)\n",
    "\n",
    "df['cost'] = df['cost'] / df['cost'].max()  # Scale to [0,1] range\n",
    "df['time'] = df['time'] / df['time'].max()  \n",
    "\n",
    "# Define independent variables\n",
    "X = df[['bike', 'car', 'public', 'cost', 'time']]\n",
    "X = sm.add_constant(X)  # Add intercept\n",
    "y = df['choice']  # Dependent variable (chosen mode)\n",
    "\n",
    "\n",
    "# Fit multinomial logit model\n",
    "model = MNLogit(y, X).fit()\n",
    "print(model.summary())\n"
   ]
  },
  {
   "cell_type": "code",
   "execution_count": 12,
   "metadata": {},
   "outputs": [
    {
     "name": "stdout",
     "output_type": "stream",
     "text": [
      "choice\n",
      "4    2297\n",
      "2     935\n",
      "1     814\n",
      "6     151\n",
      "Name: count, dtype: int64\n"
     ]
    }
   ],
   "source": [
    "print(df['choice'].value_counts())"
   ]
  }
 ],
 "metadata": {
  "kernelspec": {
   "display_name": "Python 3",
   "language": "python",
   "name": "python3"
  },
  "language_info": {
   "codemirror_mode": {
    "name": "ipython",
    "version": 3
   },
   "file_extension": ".py",
   "mimetype": "text/x-python",
   "name": "python",
   "nbconvert_exporter": "python",
   "pygments_lexer": "ipython3",
   "version": "3.10.12"
  }
 },
 "nbformat": 4,
 "nbformat_minor": 2
}
