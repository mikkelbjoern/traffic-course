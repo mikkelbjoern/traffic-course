{
 "cells": [
  {
   "cell_type": "markdown",
   "id": "9a03fa38",
   "metadata": {},
   "source": [
    "# 42189 - Transport System Analysis Performance and Operations\n",
    "\n",
    "# FD and CTM Example"
   ]
  },
  {
   "cell_type": "markdown",
   "id": "06272a46",
   "metadata": {},
   "source": [
    "### Question a"
   ]
  },
  {
   "cell_type": "markdown",
   "id": "e268f618",
   "metadata": {},
   "source": [
    "The capacity of the road is the maximum flow of the road.\n",
    "\n",
    "According to the fundamental diagram in the speed-flow plane, the capacity of the road is **1200 vehicles per hour**.\n",
    "\n",
    "We consider the following notations :\n",
    "\n",
    "- qc : the capacity of the road (=1200 veh/h, according to the fundamental diagram)\n",
    "- kc : the critical density of the road \n",
    "- uc : the speed at capacity (=50 km/h, according to the fundamental diagram)\n",
    "\n",
    "We have the following relation : uc=qc/kc\n",
    "\n",
    "So : kc = qc/uc = 24 veh/km\n",
    "\n",
    "As a result, the critical density of the road is **24 vehicles per kilometer**."
   ]
  },
  {
   "cell_type": "markdown",
   "id": "621992fa",
   "metadata": {},
   "source": [
    "### Question b"
   ]
  },
  {
   "cell_type": "markdown",
   "id": "36d9b7f9",
   "metadata": {},
   "source": [
    "We consider the following notations :\n",
    "\n",
    "- q : the flow of the road\n",
    "- k : the density of the road\n",
    "- u0 : the free speed of the road (= 50 km/h)\n",
    "- qc : the capacity of the road (= 1200 veh/h)\n",
    "- kc : the critical density of the road (=24 veh/km)\n",
    "- kjam : the jam density of the road\n",
    "    \n",
    "According to the triangular model of the fundamental diagram in the flow density model, we have the following relations :\n",
    "\n",
    "q = u0 * k                          if k<kc\n",
    "\n",
    "q = qc - [(k-kc)/(kjam-kc)] * qc    if k>=kc"
   ]
  },
  {
   "cell_type": "markdown",
   "id": "17c661a0",
   "metadata": {},
   "source": [
    "#### Determination of kjam"
   ]
  },
  {
   "cell_type": "markdown",
   "id": "6c010559",
   "metadata": {},
   "source": [
    "We know it is a straight line from (kc,qc) to (kjam,0).\n",
    "So by using 2 points on this straight line, we can determine kjam.\n",
    "\n",
    "Firstly, the point (kc,qc) is in the straight line.\n",
    "Then, we use the fundamental diagram in the speed-flow plane to pick up the point (q1,u1)=(800,20).\n",
    "Using the fundamental diagram, we can calculate k1=q1/u1=40veh/km\n",
    "\n",
    "So we have 2 point on the straight line : (kc,qc)=(24,1200) and (k1,q1)=(40,800)\n",
    "\n",
    "After calculation, we find **kjam = 72 veh/km**."
   ]
  },
  {
   "cell_type": "markdown",
   "id": "771592f0",
   "metadata": {},
   "source": [
    "#### Used Variables"
   ]
  },
  {
   "cell_type": "markdown",
   "id": "897fdb02",
   "metadata": {},
   "source": [
    "q : Flow\n",
    "    \n",
    "k : Density\n",
    "    \n",
    "u0 : Free speed\n",
    "    \n",
    "qc : Capacity\n",
    "    \n",
    "kc : Critical density\n",
    "\n",
    "kjam : Jam density"
   ]
  },
  {
   "cell_type": "markdown",
   "id": "a634037d",
   "metadata": {},
   "source": [
    "#### Used Containers"
   ]
  },
  {
   "cell_type": "markdown",
   "id": "332ab521",
   "metadata": {},
   "source": [
    "Q : Array containing the variable q at each step\n",
    "\n",
    "K : Array containing the variable k at each step"
   ]
  },
  {
   "cell_type": "markdown",
   "id": "1208b967",
   "metadata": {},
   "source": [
    "#### Import of the needed libraries"
   ]
  },
  {
   "cell_type": "code",
   "execution_count": 31,
   "id": "f09222de",
   "metadata": {},
   "outputs": [],
   "source": [
    "from numpy import *\n",
    "from matplotlib.pyplot import *"
   ]
  },
  {
   "cell_type": "markdown",
   "id": "068fc5a8",
   "metadata": {},
   "source": [
    "#### Creation and initialization of the variables"
   ]
  },
  {
   "cell_type": "code",
   "execution_count": 32,
   "id": "2c4fd57c",
   "metadata": {},
   "outputs": [],
   "source": [
    "q=0    \n",
    "k=0    \n",
    "u0=50    \n",
    "qc=1200    \n",
    "kc=24\n",
    "kjam=72"
   ]
  },
  {
   "cell_type": "markdown",
   "id": "493b1f16",
   "metadata": {},
   "source": [
    "#### Creation and initialization of the variables"
   ]
  },
  {
   "cell_type": "code",
   "execution_count": 33,
   "id": "08ed7f84",
   "metadata": {},
   "outputs": [],
   "source": [
    "Q=[]\n",
    "K=[]"
   ]
  },
  {
   "cell_type": "markdown",
   "id": "39e86b5f",
   "metadata": {},
   "source": [
    "#### Main code"
   ]
  },
  {
   "cell_type": "code",
   "execution_count": 34,
   "id": "52898b61",
   "metadata": {},
   "outputs": [],
   "source": [
    "while q>=0:    \n",
    "    if k<kc:\n",
    "        q=u0*k\n",
    "    else:\n",
    "        q=qc-((k-kc)/(kjam-kc))*qc\n",
    "    \n",
    "    Q.append(q)\n",
    "    K.append(k)\n",
    "    \n",
    "    k=k+1\n",
    "    \n",
    "del Q[-1]\n",
    "del K[-1]"
   ]
  },
  {
   "cell_type": "markdown",
   "id": "2892120d",
   "metadata": {},
   "source": [
    "#### Plots\n",
    "\n",
    "Fundamental Diagram in the flow-density plane"
   ]
  },
  {
   "cell_type": "code",
   "execution_count": 35,
   "id": "8519b3c6",
   "metadata": {},
   "outputs": [
    {
     "data": {
      "image/png": "[encoded data removed]",
      "text/plain": [
       "<Figure size 432x288 with 1 Axes>"
      ]
     },
     "metadata": {
      "needs_background": "light"
     },
     "output_type": "display_data"
    }
   ],
   "source": [
    "plot(K,Q)\n",
    "xlabel('Density (veh/km)')\n",
    "ylabel('Flow (veh/h)')\n",
    "title('Fundamental Diagram in the flow-density plane')\n",
    "show()"
   ]
  },
  {
   "cell_type": "markdown",
   "id": "5867b06c",
   "metadata": {},
   "source": [
    "### Question c"
   ]
  },
  {
   "cell_type": "markdown",
   "id": "a0f64061",
   "metadata": {},
   "source": [
    "We consider the following notations :\n",
    "\n",
    "- k2 : the density of cell 2 (= 15 veh/km)\n",
    "- k3 : the density of cell 3 (= 48 veh/km)\n",
    "- kc : the critical density of the cells (= 24 veh/km)\n",
    "- q2 : the flow in cell 2\n",
    "- q3 : the flow in cell 3\n",
    "- qc : the capacity of the cells (= 1200 veh/h)\n",
    "- q23 : the flow from cell 2 to cell 3\n",
    "- D2 : the demand of cell 2 (the maximum number of vehicles that can flow out of cell 2)\n",
    "- S3 : the supply of cell 3 (= the maximum number of vehicles that can flow into cell 3)"
   ]
  },
  {
   "cell_type": "markdown",
   "id": "3696ddab",
   "metadata": {},
   "source": [
    "Thanks to the fundamental diagram in the flow-density plane we have just drawn, we can determinate q2 and q3 :"
   ]
  },
  {
   "cell_type": "code",
   "execution_count": 36,
   "id": "58289c2d",
   "metadata": {},
   "outputs": [
    {
     "name": "stdout",
     "output_type": "stream",
     "text": [
      "q2 =  750  veh/h\n",
      "q3 =  600  veh/h\n"
     ]
    }
   ],
   "source": [
    "k2=15\n",
    "k3=48\n",
    "\n",
    "q2=int(Q[k2])\n",
    "q3=int(Q[k3])\n",
    "print('q2 = ',q2,' veh/h')\n",
    "print('q3 = ',q3,' veh/h')"
   ]
  },
  {
   "cell_type": "markdown",
   "id": "259569a8",
   "metadata": {},
   "source": [
    "According to the cell transmission model,\n",
    "\n",
    "- We have k2<kc (15<24), so D2 = q2 = 750 veh/h\n",
    "- We have k3>kc (48>24), so S3 = q3 = 600 veh/h\n",
    "\n",
    "So, we can calculate q23 = min(D2,S3) = min(750,600) = 600 veh/h\n",
    "\n",
    "The flow from cell 2 to cell 3 is **600 vehicles per hour**."
   ]
  },
  {
   "cell_type": "markdown",
   "id": "e0871802",
   "metadata": {},
   "source": [
    "### Question d"
   ]
  },
  {
   "cell_type": "markdown",
   "id": "b3a662f3",
   "metadata": {},
   "source": [
    "We consider the following notations :\n",
    "\n",
    "- k3 : the density of cell 3 (= 48 veh/km)\n",
    "- k4 : the density of cell 4 (=15 veh/km)\n",
    "- kc : the critical density of the cells (= 24 veh/km)\n",
    "- q3 : the flow in cell 3\n",
    "- q4 : the flow in cell 4\n",
    "- qc : the capacity of the cells (= 1200 veh/h)\n",
    "- q34 : the flow from ceel 3 to cell 4\n",
    "- D3 : the demand of cell 3 (the maximum number of vehicles that can flow out of cell 3)\n",
    "- S4 : the supply of cell 4 (= the maximum number of vehicles that can flow into cell 4)"
   ]
  },
  {
   "cell_type": "markdown",
   "id": "3ae0a221",
   "metadata": {},
   "source": [
    "Thanks to the fundamental diagram in the flow-density plane we have just drawn, we can determinate q3 and q4 :"
   ]
  },
  {
   "cell_type": "markdown",
   "id": "ab595c2f",
   "metadata": {},
   "source": [
    "According to the cell transmission model,\n",
    "\n",
    "- We have k3>kc (48>24), so D3 = qc = 1200 veh/h\n",
    "- We have k4<kc (15<24), so S4 = qc = 1200 veh/h\n",
    "\n",
    "So, we can calculate q23 = min(D2,S3) = min (1200,1200) = 1200 veh/h\n",
    "\n",
    "The flow from cell 3 to cell 4 is **1200 vehicles per hour**."
   ]
  }
 ],
 "metadata": {
  "kernelspec": {
   "display_name": "Python 3",
   "language": "python",
   "name": "python3"
  },
  "language_info": {
   "codemirror_mode": {
    "name": "ipython",
    "version": 3
   },
   "file_extension": ".py",
   "mimetype": "text/x-python",
   "name": "python",
   "nbconvert_exporter": "python",
   "pygments_lexer": "ipython3",
   "version": "3.8.8"
  }
 },
 "nbformat": 4,
 "nbformat_minor": 5
}
